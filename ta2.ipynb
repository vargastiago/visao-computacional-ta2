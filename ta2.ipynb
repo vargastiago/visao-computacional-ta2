{
 "cells": [
  {
   "cell_type": "markdown",
   "id": "c61ac578-d87a-444e-be0a-5ebd6e2ae898",
   "metadata": {},
   "source": [
    "## Importação das bibliotecas"
   ]
  },
  {
   "cell_type": "code",
   "execution_count": null,
   "id": "4224e3ca-4c66-487d-9cc4-a27533811586",
   "metadata": {
    "tags": []
   },
   "outputs": [],
   "source": [
    "import cv2 as cv\n",
    "import numpy as np\n",
    "import matplotlib.pyplot as plt\n",
    "import glob"
   ]
  },
  {
   "cell_type": "markdown",
   "id": "10dae949-6210-4441-b18b-91d436772011",
   "metadata": {
    "tags": []
   },
   "source": [
    "## Setup"
   ]
  },
  {
   "cell_type": "code",
   "execution_count": null,
   "id": "c9c49881-f757-44bb-b771-7370268b64be",
   "metadata": {
    "tags": []
   },
   "outputs": [],
   "source": [
    "# termination criteria\n",
    "criteria = (cv.TERM_CRITERIA_EPS + cv.TERM_CRITERIA_MAX_ITER, 30, 0.001)\n",
    "\n",
    "board_size = (7, 6)\n",
    "# resolution = (640, 480)\n",
    "img_points = []\n",
    "obj_points = []\n",
    "\n",
    "h, w = board_size\n",
    "objp = np.zeros((h*w, 3), np.float32)\n",
    "objp[:, :2] = np.mgrid[0:h, 0:w].T.reshape(-1, 2)\n",
    "\n",
    "images = glob.glob('data/*.jpg')\n",
    "\n",
    "for fname in images:\n",
    "    img = cv.imread(fname)\n",
    "    gray = cv.cvtColor(img, cv.COLOR_BGR2GRAY)\n",
    "    \n",
    "    ret, corners = cv.findChessboardCorners(gray, (h, w), None)\n",
    "    if ret == True:\n",
    "        obj_points.append(objp)\n",
    "        \n",
    "        corners2 = cv.cornerSubPix(gray, corners, (11, 11), (-1, -1), criteria)\n",
    "        img_points.append(corners2)\n",
    "\n",
    "        cv.drawChessboardCorners(img, (h, w), corners2, ret)\n",
    "        cv.imshow('img', img)\n",
    "        cv.waitKey(0)\n",
    "        \n",
    "cv.destroyAllWindows()"
   ]
  },
  {
   "cell_type": "markdown",
   "id": "27afac24-06c2-44e7-9ba4-5d2ee522d227",
   "metadata": {
    "tags": []
   },
   "source": [
    "## Executa a calibração da câmera"
   ]
  },
  {
   "cell_type": "code",
   "execution_count": null,
   "id": "507a4627-c4e6-442e-8f6c-369aa7ec0db3",
   "metadata": {
    "tags": []
   },
   "outputs": [],
   "source": [
    "ret, mtx, dist, rvecs, tvecs = cv.calibrateCamera(obj_points, img_points, gray.shape[::-1], None, None)"
   ]
  },
  {
   "cell_type": "markdown",
   "id": "3e7d20dc-2620-4016-9d4b-a7e5707015c6",
   "metadata": {},
   "source": [
    "## Remove a distorção das imagens capturadas pela câmera"
   ]
  },
  {
   "cell_type": "code",
   "execution_count": null,
   "id": "2074e3c3-882e-41b4-9fc4-da14fe430a0d",
   "metadata": {
    "tags": []
   },
   "outputs": [],
   "source": [
    "original_images = []\n",
    "undistorted_images = []\n",
    "\n",
    "for fname in images:\n",
    "    img = cv.imread(fname)\n",
    "    original_images.append(img)\n",
    "    \n",
    "    h, w = img.shape[:2]\n",
    "    new_mtx, roi = cv.getOptimalNewCameraMatrix(mtx, dist, (w, h), 1, (w, h))\n",
    "    \n",
    "    new_img = cv.undistort(img, mtx, dist, None, new_mtx)\n",
    "    \n",
    "    # crop\n",
    "    x, y, w, h, = roi\n",
    "    new_img = new_img[y:y+h, x:x+w]\n",
    "    undistorted_images.append(new_img)"
   ]
  },
  {
   "cell_type": "markdown",
   "id": "ea30f1e0-01cc-43ea-80f9-cab51d0a0549",
   "metadata": {},
   "source": [
    "## Configura e plota as imagens ajustadas"
   ]
  },
  {
   "cell_type": "code",
   "execution_count": null,
   "id": "e1c8ea75-ef62-46e6-aa22-e27b11c84d87",
   "metadata": {
    "tags": []
   },
   "outputs": [],
   "source": [
    "fig, ax = plt.subplots(nrows=15, ncols=2, figsize=(10, 30))\n",
    "\n",
    "for i in range(15):\n",
    "# for i in range(len(images):\n",
    "    row = i\n",
    "    col = 0\n",
    "    \n",
    "    # Plota a imagem original na coluna 0 da linha atual\n",
    "    ax[row, col].imshow(original_images[i][:, :, ::-1])\n",
    "    ax[row, col].axis('off')\n",
    "    ax[row, col].set_title(f'Imagem {row+1} original')\n",
    "\n",
    "    # Plota a imagem ajustada na coluna 1 da linha atual\n",
    "    ax[row, col+1].imshow(undistorted_images[i][:, :, ::-1])\n",
    "    ax[row, col+1].axis('off')\n",
    "    ax[row, col+1].set_title(f'Imagem {row+1} ajustada')"
   ]
  }
 ],
 "metadata": {
  "kernelspec": {
   "display_name": "Python 3 (ipykernel)",
   "language": "python",
   "name": "python3"
  },
  "language_info": {
   "codemirror_mode": {
    "name": "ipython",
    "version": 3
   },
   "file_extension": ".py",
   "mimetype": "text/x-python",
   "name": "python",
   "nbconvert_exporter": "python",
   "pygments_lexer": "ipython3",
   "version": "3.11.3"
  }
 },
 "nbformat": 4,
 "nbformat_minor": 5
}
